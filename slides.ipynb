{
 "cells": [
  {
   "cell_type": "markdown",
   "metadata": {
    "slideshow": {
     "slide_type": "slide"
    }
   },
   "source": [
    "# Introduction to Jupyter Notebooks"
   ]
  },
  {
   "cell_type": "markdown",
   "metadata": {
    "nbpresent": {
     "id": "b7064c7d-a630-4c29-995a-b220968cd23b"
    },
    "slideshow": {
     "slide_type": "subslide"
    }
   },
   "source": [
    "Jyry Suvilehto  \n",
   ]
  },
  {
   "cell_type": "markdown",
   "metadata": {
    "slideshow": {
     "slide_type": "subslide"
    }
   },
   "source": [
    "```bash\n",
    "$ git clone https://github.com/coderefinery/jupyter.git\n",
    "$ cd jupyter\n",
    "$ jupyter-notebook\n",
    "```"
   ]
  },
  {
   "cell_type": "markdown",
   "metadata": {
    "slideshow": {
     "slide_type": "skip"
    }
   },
   "source": [
    "May need this if using Pouta Blueprints service\n",
    "```bash\n",
    "export GIT_COMMITTER_NAME=kthw                                                                 \n",
    "export GIT_COMMITTER_EMAIL=kthw@kth.se \n",
    "```"
   ]
  },
  {
   "cell_type": "markdown",
   "metadata": {
    "slideshow": {
     "slide_type": "slide"
    }
   },
   "source": [
    "## History of Jupyter\n",
    "  - In 2014, Fernando Pérez announced a spin-off project from IPython called Project Jupyter. IPython will continue to exist as a Python shell and a kernel for Jupyter, while the notebook and other language-agnostic parts of IPython will move under the Jupyter name.  [`https://en.wikipedia.org/wiki/IPython`].\n",
    " "
   ]
  },
  {
   "cell_type": "markdown",
   "metadata": {
    "slideshow": {
     "slide_type": "subslide"
    }
   },
   "source": [
    "Why \"Jupyter\"?\n",
    "  - Julia + Python + R\t      "
   ]
  },
  {
   "cell_type": "markdown",
   "metadata": {
    "slideshow": {
     "slide_type": "subslide"
    }
   },
   "source": [
    " - Galileo's publication in a pamphlet in 1610 in Sidereus Nuncius about observations of Jupiter's moons is formulated as a notebook, with illustrations, text, calculations, titles, datapoints, images, reasoning... One of the first notebooks!\n",
    "<div style=\"float: right\">\n",
    "<img align=\"right\" src=\"img/galileo1610_1.jpg\" alt=\"Drawing\" style=\"float: center; width: 300px;\"/> \n",
    "</div>\n",
    "\n",
    "  "
   ]
  },
  {
   "cell_type": "markdown",
   "metadata": {
    "slideshow": {
     "slide_type": "slide"
    }
   },
   "source": [
    "## Today\n",
    "- Around 3M Jupyter users\n",
    "- Over 500k Jupyter Notebooks on GitHub"
   ]
  },
  {
   "cell_type": "markdown",
   "metadata": {
    "slideshow": {
     "slide_type": "subslide"
    }
   },
   "source": [
    "![jupusage backgrounds](img/jupyter_survey_2016_backgrounds.png)\n",
    "\n",
    "<small> https://github.com/jupyter/design/blob/master/surveys/2015-notebook-ux/analysis/report_dashboard.ipynb </small>"
   ]
  },
  {
   "cell_type": "markdown",
   "metadata": {
    "slideshow": {
     "slide_type": "subslide"
    }
   },
   "source": [
    "![jupusage backgrounds](img/jupyter_survey_2016_words.png)\n",
    "\n",
    "<small> https://github.com/jupyter/design/blob/master/surveys/2015-notebook-ux/analysis/report_dashboard.ipynb </small>"
   ]
  },
  {
   "cell_type": "markdown",
   "metadata": {
    "slideshow": {
     "slide_type": "slide"
    }
   },
   "source": [
    "## Why use Jupyter?\n",
    "- excels at [*literate programming*](https://en.wikipedia.org/wiki/Literate_programming)\n",
    "- many features of integrated development environment (IDE): code completion, easy access to help\n",
    "- quick and simple experimentation with new ideas\n",
    "- prototyping; breaking code into chunks; test, debug and modify chunks; rearrange and jump between chunks; see intermediate results; benchmarking/timing\n",
    "- sharing and explaining your code to colleagues\n",
    "- [support for many programming languages](https://github.com/jupyter/jupyter/wiki/Jupyter-kernels)"
   ]
  },
  {
   "cell_type": "markdown",
   "metadata": {
    "slideshow": {
     "slide_type": "subslide"
    }
   },
   "source": [
    "## Why use Jupyter?\n",
    "- complex analysis involving interactive experimentation\n",
    "- keeping track of interactive sessions, like a digital lab notebook\n",
    "- writing technical documentation involving formated text, code, equations, figures...\t\n",
    "- reproducible science! (e.g., supplementary information with published articles)\n",
    "- teaching (programming, experimental/theoretical science)\n",
    "- presentations"
   ]
  },
  {
   "cell_type": "code",
   "execution_count": 2,
   "metadata": {
    "slideshow": {
     "slide_type": "subslide"
    }
   },
   "outputs": [
    {
     "data": {
      "text/plain": [
       "10"
      ]
     },
     "execution_count": 2,
     "metadata": {},
     "output_type": "execute_result"
    }
   ],
   "source": []
  },
  {
   "cell_type": "markdown",
   "metadata": {
    "slideshow": {
     "slide_type": "subslide"
    }
   },
   "source": [
    "![Nature article](img/nature_article_2.png)"
   ]
  },
  {
   "cell_type": "markdown",
   "metadata": {
    "slideshow": {
     "slide_type": "slide"
    }
   },
   "source": [
    "## Navigating Jupyter notebooks\n",
    " - Notebook Dashboard\n",
    "   * `Files` tab shows files in current directory\n",
    "   * `Running` tab shows kernels running on your computer\n",
    "   * `Clusters` tab lets you launch kernels for parallel computing\n",
    " - Fully-fledged terminal (you can run emacs and vi)\n",
    " - Text editor for source code in many different languages  \n",
    " "
   ]
  },
  {
   "cell_type": "markdown",
   "metadata": {
    "slideshow": {
     "slide_type": "subslide"
    }
   },
   "source": [
    "## Notebook user interface\n",
    "![A new notebook](img/nbui-2.png)"
   ]
  },
  {
   "cell_type": "markdown",
   "metadata": {
    "slideshow": {
     "slide_type": "subslide"
    }
   },
   "source": [
    " ## Cells\n",
    " - **Markdown cells** contain rich text\n",
    " - **Code cells** contain code to be executed by the kernel\n",
    "![Components](img/notebook_components.png)"
   ]
  },
  {
   "cell_type": "markdown",
   "metadata": {
    "slideshow": {
     "slide_type": "subslide"
    }
   },
   "source": [
    "## Markdown cells\n",
    " ![A Markdown cell](img/markdown-both_50.png)"
   ]
  },
  {
   "cell_type": "markdown",
   "metadata": {
    "slideshow": {
     "slide_type": "subslide"
    }
   },
   "source": [
    "## Code cells\n",
    "\n",
    "![Structure of a code cell](img/nbui-3_50.png)\n"
   ]
  },
  {
   "cell_type": "markdown",
   "metadata": {
    "slideshow": {
     "slide_type": "slide"
    }
   },
   "source": [
    "## Converting to other formats\n",
    "- `jupyter nbconvert mynotebook.ipynb --to python` \n",
    "- `jupyter nbconvert --to html --template [basic/full] mynotebook.ipynb` \n",
    "- `jupyter nbconvert --to latex --template [base/report/article] mynotebook.ipynb`\n",
    "- `jupyter nbconvert mynotebook.ipynb --to pdf` \n",
    "- `jupyter nbconvert myslides.ipynb --to slides --post serve`\n"
   ]
  },
  {
   "cell_type": "markdown",
   "metadata": {
    "slideshow": {
     "slide_type": "slide"
    }
   },
   "source": [
    "## Future directions: JupyterLab\n",
    "\n",
    "- natural evolution of the Jupyter Notebook user interface\n",
    "- an IDE: *Interactive* Development Environment\n",
    "- flexible user interface for assembling the building blocks of interactive computing\n",
    "- adaptable to multiple workflows. Switch between Notebook/narrative focus and script/console focus"
   ]
  },
  {
   "cell_type": "markdown",
   "metadata": {
    "slideshow": {
     "slide_type": "subslide"
    }
   },
   "source": [
    "![jupyterlab](img/jlab-screenshot-nb-con-term-2_40.png)"
   ]
  },
  {
   "cell_type": "markdown",
   "metadata": {
    "nbpresent": {
     "id": "c554a788-1bbe-4615-8cb2-04a26dbb2986"
    },
    "slideshow": {
     "slide_type": "slide"
    }
   },
   "source": [
    "## Further reading\n",
    " - http://nbviewer.jupyter.org/\n",
    " - https://github.com/jupyter/jupyter/wiki/A-gallery-of-interesting-Jupyter-and-IPython-Notebooks\n",
    " - http://mybinder.org/\n",
    " - https://jupyterhub.readthedocs.io/en/latest/\n",
    " - http://ipython-books.github.io/minibook/\n",
    " - http://ipython-books.github.io/cookbook/\n",
    " - https://www.oreilly.com/ideas/the-state-of-jupyter"
   ]
  },
  {
   "cell_type": "markdown",
   "metadata": {
    "slideshow": {
     "slide_type": "slide"
    }
   },
   "source": [
    "## Overview of this lesson\n",
    "\n",
    " - Lesson 1\n",
    "   - getting familiar with Jupyter\n",
    "   - using magics and terminal commands\n",
    "   - basic plotting\n",
    "   - mixing languages\n",
    " - Lesson 2\n",
    "   - accelerating your code with numba and cython\n",
    " - Lesson 3\n",
    "   - data exploration and visualization\n",
    " "
   ]
  }
 ],
 "metadata": {
  "anaconda-cloud": {},
  "celltoolbar": "Slideshow",
  "kernelspec": {
   "display_name": "Python 3",
   "language": "python",
   "name": "python3"
  },
  "language_info": {
   "codemirror_mode": {
    "name": "ipython",
    "version": 3
   },
   "file_extension": ".py",
   "mimetype": "text/x-python",
   "name": "python",
   "nbconvert_exporter": "python",
   "pygments_lexer": "ipython3",
   "version": "3.5.2"
  },
  "nbpresent": {
   "slides": {
    "30a07164-6051-402a-a8c7-c30e11a6e399": {
     "id": "30a07164-6051-402a-a8c7-c30e11a6e399",
     "prev": "6af13e71-17ba-4c3c-960a-01ed28e8a43f",
     "regions": {
      "5e65fea5-b0d9-4e44-8b5d-d9285a2fe80e": {
       "attrs": {
        "height": 1,
        "width": 1,
        "x": 0,
        "y": 0
       },
       "id": "5e65fea5-b0d9-4e44-8b5d-d9285a2fe80e"
      }
     }
    },
    "6af13e71-17ba-4c3c-960a-01ed28e8a43f": {
     "id": "6af13e71-17ba-4c3c-960a-01ed28e8a43f",
     "prev": null,
     "regions": {
      "ea5d03ee-4c96-4b6f-998c-ca04df408a19": {
       "attrs": {
        "height": 1,
        "width": 1,
        "x": 0,
        "y": 0
       },
       "content": {
        "cell": "b7064c7d-a630-4c29-995a-b220968cd23b",
        "part": "source"
       },
       "id": "ea5d03ee-4c96-4b6f-998c-ca04df408a19"
      }
     }
    }
   },
   "themes": {}
  }
 },
 "nbformat": 4,
 "nbformat_minor": 1
}
